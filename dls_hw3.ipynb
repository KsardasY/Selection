{
 "cells": [
  {
   "cell_type": "markdown",
   "source": [
    "# Импорт либ"
   ],
   "metadata": {
    "collapsed": false
   }
  },
  {
   "cell_type": "code",
   "execution_count": 2,
   "outputs": [],
   "source": [
    "import numpy as np\n",
    "import pandas as pd\n",
    "import seaborn as sns\n",
    "import matplotlib.pyplot as plt\n",
    "import os\n",
    "import warnings\n",
    "for dirname, _, filenames in os.walk(\"/kaggle/input\"):\n",
    "    for filename in filenames:\n",
    "        print(os.path.join(dirname, filename))\n",
    "warnings.simplefilter(\"ignore\")\n",
    "%matplotlib inline\n",
    "sns.set(style=\"darkgrid\")"
   ],
   "metadata": {
    "collapsed": false
   }
  },
  {
   "cell_type": "markdown",
   "source": [
    "# Загрузка & Анализ данных"
   ],
   "metadata": {
    "collapsed": false
   }
  },
  {
   "cell_type": "code",
   "execution_count": null,
   "outputs": [],
   "source": [
    "df = pd.read_csv(\"/kaggle/input/advanced-dls-spring-2021/train.csv\")\n",
    "df.shape"
   ],
   "metadata": {
    "collapsed": false,
    "pycharm": {
     "is_executing": true
    }
   }
  },
  {
   "cell_type": "code",
   "execution_count": null,
   "outputs": [],
   "source": [
    "df.head()"
   ],
   "metadata": {
    "collapsed": false,
    "pycharm": {
     "is_executing": true
    }
   }
  },
  {
   "cell_type": "code",
   "execution_count": null,
   "outputs": [],
   "source": [
    "df.columns"
   ],
   "metadata": {
    "collapsed": false
   }
  },
  {
   "cell_type": "markdown",
   "source": [
    "Ну как там с пропусками?"
   ],
   "metadata": {
    "collapsed": false
   }
  },
  {
   "cell_type": "code",
   "execution_count": null,
   "outputs": [],
   "source": [
    "df.isna().sum()"
   ],
   "metadata": {
    "collapsed": false
   }
  },
  {
   "cell_type": "markdown",
   "source": [
    "Ну как там с дубликатами?"
   ],
   "metadata": {
    "collapsed": false
   }
  },
  {
   "cell_type": "code",
   "execution_count": null,
   "outputs": [],
   "source": [
    "df.duplicated().sum()"
   ],
   "metadata": {
    "collapsed": false
   }
  },
  {
   "cell_type": "markdown",
   "source": [
    "Ну как там с дубликатами без целевой переменной? Удалим те, у которых таргет 0, так как их скорее всего ошибочно не удалили из базы(поскольку дубликаты с таргетом 1 появились в бд позже)"
   ],
   "metadata": {
    "collapsed": false
   }
  },
  {
   "cell_type": "code",
   "execution_count": null,
   "outputs": [],
   "source": [
    "y = df[\"Churn\"]\n",
    "X = df.drop(columns=[\"Churn\"])\n",
    "duplicates = X[X.duplicated(keep=False)].merge(y[X.duplicated(keep=False)],\n",
    "                                               left_index=True,\n",
    "                                               right_index=True).sort_values(by=[\"TotalSpent\", \"Churn\"]).index[::2]\n",
    "X.drop(index=duplicates, inplace=True)\n",
    "y.drop(index=duplicates, inplace=True)"
   ],
   "metadata": {
    "collapsed": false
   }
  },
  {
   "cell_type": "markdown",
   "source": [
    "Ну как там с распределением таргета?"
   ],
   "metadata": {
    "collapsed": false
   }
  },
  {
   "cell_type": "code",
   "execution_count": null,
   "outputs": [],
   "source": [
    "y.nunique()"
   ],
   "metadata": {
    "collapsed": false
   }
  },
  {
   "cell_type": "code",
   "execution_count": null,
   "outputs": [],
   "source": [
    "sns.displot(y)"
   ],
   "metadata": {
    "collapsed": false
   }
  },
  {
   "cell_type": "markdown",
   "source": [
    "Ну как там с признаками?"
   ],
   "metadata": {
    "collapsed": false
   }
  },
  {
   "cell_type": "code",
   "execution_count": null,
   "outputs": [],
   "source": [
    "X.describe()"
   ],
   "metadata": {
    "collapsed": false
   }
  },
  {
   "cell_type": "code",
   "execution_count": null,
   "outputs": [],
   "source": [
    "X.dtypes"
   ],
   "metadata": {
    "collapsed": false
   }
  },
  {
   "cell_type": "markdown",
   "source": [
    "Разделим их на числовые и категориальные"
   ],
   "metadata": {
    "collapsed": false
   }
  },
  {
   "cell_type": "code",
   "execution_count": null,
   "outputs": [],
   "source": [
    "numeric = list(X.select_dtypes([np.number]).columns)\n",
    "categorical = list(X.dtypes[X.dtypes == \"object\"].index)\n",
    "print(\"Численные фичи:\\n\\t\", \"\\n\\t\".join(numeric),\n",
    "      \"\\n\\nКатегориальные фичи:\\n\\t\", \"\\n\\t\".join(categorical), sep=\"\")"
   ],
   "metadata": {
    "collapsed": false
   }
  },
  {
   "cell_type": "markdown",
   "source": [
    "Ну как там с числовыми признаками?"
   ],
   "metadata": {
    "collapsed": false
   }
  },
  {
   "cell_type": "code",
   "execution_count": null,
   "outputs": [],
   "source": [
    "for feature in numeric:\n",
    "    print(feature, X[feature].nunique())"
   ],
   "metadata": {
    "collapsed": false
   }
  },
  {
   "cell_type": "markdown",
   "source": [
    "IsSeniorCitizen выглядит как категориальный"
   ],
   "metadata": {
    "collapsed": false
   }
  },
  {
   "cell_type": "code",
   "execution_count": null,
   "outputs": [],
   "source": [
    "categorical.append(\"IsSeniorCitizen\")\n",
    "numeric.remove(\"IsSeniorCitizen\")\n",
    "X.IsSeniorCitizen.unique()"
   ],
   "metadata": {
    "collapsed": false
   }
  },
  {
   "cell_type": "markdown",
   "source": [
    "Ну как там с категориальными фичами?"
   ],
   "metadata": {
    "collapsed": false
   }
  },
  {
   "cell_type": "code",
   "execution_count": null,
   "outputs": [],
   "source": [
    "for feature in categorical:\n",
    "    print(feature, X[feature].nunique())"
   ],
   "metadata": {
    "collapsed": false
   }
  },
  {
   "cell_type": "markdown",
   "source": [
    "TotalSpent похож на числовой признак"
   ],
   "metadata": {
    "collapsed": false
   }
  },
  {
   "cell_type": "code",
   "execution_count": null,
   "outputs": [],
   "source": [
    "X.TotalSpent.value_counts()"
   ],
   "metadata": {
    "collapsed": false
   }
  },
  {
   "cell_type": "markdown",
   "source": [
    "Найдём, почему это не числовой признак"
   ],
   "metadata": {
    "collapsed": false
   }
  },
  {
   "cell_type": "code",
   "execution_count": null,
   "outputs": [],
   "source": [
    "defect = []\n",
    "for value in X.TotalSpent.value_counts().index:\n",
    "    try:\n",
    "        float(value)\n",
    "    except:\n",
    "        defect.append(value)\n",
    "defect"
   ],
   "metadata": {
    "collapsed": false
   }
  },
  {
   "cell_type": "code",
   "execution_count": null,
   "outputs": [],
   "source": [
    "X.TotalSpent.value_counts()[\" \"]"
   ],
   "metadata": {
    "collapsed": false
   }
  },
  {
   "cell_type": "markdown",
   "source": [
    "Заметим, что пробелы стоят там, где срок равен 0, заменим их на 0 и добавим логарифм от этой фичи"
   ],
   "metadata": {
    "collapsed": false
   }
  },
  {
   "cell_type": "code",
   "execution_count": null,
   "outputs": [],
   "source": [
    "X[\"TotalSpent\"][X[\"TotalSpent\"] == \" \"] = \"0\"\n",
    "X[\"TotalSpent\"] = X[\"TotalSpent\"].astype(float)\n",
    "X[\"TotalSpentLog\"] = np.log(X[\"TotalSpent\"] + 1)\n",
    "numeric.append(\"TotalSpentLog\")\n",
    "numeric.append(\"TotalSpent\")\n",
    "categorical.remove(\"TotalSpent\")"
   ],
   "metadata": {
    "collapsed": false
   }
  },
  {
   "cell_type": "markdown",
   "source": [
    "Ну как там с распределениями категориальных признаков?"
   ],
   "metadata": {
    "collapsed": false
   }
  },
  {
   "cell_type": "code",
   "execution_count": null,
   "outputs": [],
   "source": [
    "for i in range(4):\n",
    "    fig, axs = plt.subplots(figsize=(16, 5), ncols=4)\n",
    "    for i, feature in enumerate(X[categorical[i * 4:(i + 1) * 4]]):\n",
    "        axs[i].hist(X[feature])\n",
    "        axs[i].set_xlabel(feature)\n",
    "        axs[i].set_ylabel(\"count\")\n",
    "    plt.tight_layout()"
   ],
   "metadata": {
    "collapsed": false
   }
  },
  {
   "cell_type": "markdown",
   "source": [
    "Заметим повторяющееся значение  No internet servie, в разных признаках. Добавим их в отдельную категорию"
   ],
   "metadata": {
    "collapsed": false
   }
  },
  {
   "cell_type": "code",
   "execution_count": null,
   "outputs": [],
   "source": [
    "print(len(X))\n",
    "without_internet = []\n",
    "for feature in categorical:\n",
    "    if \"No internet service\" in X[feature].unique():\n",
    "        without_internet.append(feature)\n",
    "        print(f\"{feature}: \", sum((X[feature] == \"No internet service\") == (X[\"HasInternetService\"] == \"No\")))\n",
    "for feature in without_internet:\n",
    "    categorical.remove(feature)"
   ],
   "metadata": {
    "collapsed": false
   }
  },
  {
   "cell_type": "markdown",
   "source": [
    "Ну как там с корреляциями?"
   ],
   "metadata": {
    "collapsed": false
   }
  },
  {
   "cell_type": "code",
   "execution_count": null,
   "outputs": [],
   "source": [
    "correlations = X[numeric].corrwith(y).sort_values(ascending=False)\n",
    "plt.figure(figsize=(14, 4))\n",
    "sns.barplot(y=correlations.index, x=correlations)"
   ],
   "metadata": {
    "collapsed": false
   }
  },
  {
   "cell_type": "markdown",
   "source": [
    "Ну как там с зависимостью таргета от численных фичей?"
   ],
   "metadata": {
    "collapsed": false
   }
  },
  {
   "cell_type": "code",
   "execution_count": null,
   "outputs": [],
   "source": [
    "fig, axs = plt.subplots(figsize=(16, 5), ncols=4)\n",
    "for i, feature in enumerate(numeric):\n",
    "    axs[i].scatter(X[feature], y, alpha=0.2)\n",
    "    axs[i].set_xlabel(feature)\n",
    "    axs[i].set_ylabel(\"Churn\")\n",
    "plt.tight_layout()"
   ],
   "metadata": {
    "collapsed": false
   }
  },
  {
   "cell_type": "markdown",
   "source": [
    "# Линейный пайплайн"
   ],
   "metadata": {
    "collapsed": false
   }
  },
  {
   "cell_type": "code",
   "execution_count": null,
   "outputs": [],
   "source": [
    "from sklearn.model_selection import train_test_split, GridSearchCV\n",
    "from sklearn.preprocessing import StandardScaler, OneHotEncoder\n",
    "from sklearn.pipeline import Pipeline\n",
    "from sklearn.compose import ColumnTransformer\n",
    "from sklearn.metrics import roc_auc_score\n",
    "X_train, X_test, y_train, y_test = train_test_split(X, y, test_size=0.2, random_state=0, stratify=y)"
   ],
   "metadata": {
    "collapsed": false
   }
  },
  {
   "cell_type": "code",
   "execution_count": null,
   "outputs": [],
   "source": [
    "from sklearn.linear_model import LogisticRegression\n",
    "column_transformer = ColumnTransformer([\n",
    "    (\"ohe\", OneHotEncoder(handle_unknown=\"ignore\",\n",
    "                         drop=\"first\"), categorical),\n",
    "    (\"ohe_drop\", OneHotEncoder(handle_unknown=\"ignore\",\n",
    "                               drop=6*[\"No internet service\"]), without_internet),\n",
    "    (\"scaling\", StandardScaler(), numeric)\n",
    "])\n",
    "logreg_pipeline = Pipeline(steps=[\n",
    "    (\"ohe_and_scaling\", column_transformer),\n",
    "    (\"classification\", LogisticRegression(penalty=\"l2\", max_iter=10000))\n",
    "])\n",
    "params = {\"classification__C\": [0.01, 0.1, 1, 10, 100],\n",
    "          \"classification__class_weight\": [None, \"balanced\"],\n",
    "          \"classification__solver\": [\"lbfgs\", \"liblinear\", \"newton-cg\", \"newton-cholesky\", \"sag\", \"saga\"]\n",
    "         }\n",
    "search_logreg = GridSearchCV(logreg_pipeline, params, n_jobs=-1, cv=3, refit=True, scoring=\"roc_auc\", verbose=0)\n",
    "search_logreg.fit(X_train, y_train)\n",
    "logreg_pipeline.set_params(**search_logreg.best_params_)\n",
    "logreg_pipeline.fit(X_train, y_train)\n",
    "roc_auc_score(y_test, logreg_pipeline.predict_proba(X_test)[:, 1])"
   ],
   "metadata": {
    "collapsed": false
   }
  },
  {
   "cell_type": "markdown",
   "source": [
    "Получилось на тесте около 0.847"
   ],
   "metadata": {
    "collapsed": false
   }
  },
  {
   "cell_type": "markdown",
   "source": [
    "# Пайплайн SVM"
   ],
   "metadata": {
    "collapsed": false
   }
  },
  {
   "cell_type": "markdown",
   "source": [
    "Решил не добавлять сюда, потому что с позором"
   ],
   "metadata": {
    "collapsed": false
   }
  },
  {
   "cell_type": "markdown",
   "source": [
    "Получилось около 0.843"
   ],
   "metadata": {
    "collapsed": false
   }
  },
  {
   "cell_type": "markdown",
   "source": [
    "# Лесной пайплайн"
   ],
   "metadata": {
    "collapsed": false
   }
  },
  {
   "cell_type": "markdown",
   "source": [
    "Будем кодировать категориальные фичи OHE, так как скор почему-то получился лучше LE"
   ],
   "metadata": {
    "collapsed": false
   }
  },
  {
   "cell_type": "code",
   "execution_count": null,
   "outputs": [],
   "source": [
    "from sklearn.ensemble import RandomForestClassifier\n",
    "X_train, X_test, y_train, y_test = train_test_split(X, y, test_size=0.2, random_state=0, stratify=y)\n",
    "forest_pipeline = Pipeline(steps=[\n",
    "    (\"scaling\", column_transformer),\n",
    "    (\"classification\", RandomForestClassifier())\n",
    "])\n",
    "params = {\"classification__n_estimators\": [50, 75, 100, 150],\n",
    "          \"classification__criterion\": [\"gini\", \"log_loss\", \"entropy\"],\n",
    "          \"classification__max_depth\": range(4, 9)}\n",
    "search_forest = GridSearchCV(forest_pipeline, params, n_jobs=-1, cv=3, refit=True,\n",
    "                                scoring=\"roc_auc\", verbose=0)\n",
    "search_forest.fit(X_train, y_train)\n",
    "forest_pipeline.set_params(**search_forest.best_params_)\n",
    "forest_pipeline.fit(X_train, y_train)\n",
    "roc_auc_score(y_test, forest_pipeline.predict_proba(X_test)[:,1])"
   ],
   "metadata": {
    "collapsed": false
   }
  },
  {
   "cell_type": "markdown",
   "source": [
    "Получилось на тесте около 0.848"
   ],
   "metadata": {
    "collapsed": false
   }
  },
  {
   "cell_type": "markdown",
   "source": [
    "# Пайплайн бустинга"
   ],
   "metadata": {
    "collapsed": false
   }
  },
  {
   "cell_type": "code",
   "execution_count": null,
   "outputs": [],
   "source": [
    "categorical.extend(without_internet)"
   ],
   "metadata": {
    "collapsed": false
   }
  },
  {
   "cell_type": "code",
   "execution_count": null,
   "outputs": [],
   "source": [
    "from catboost import CatBoostClassifier\n",
    "model = CatBoostClassifier(cat_features=categorical)\n",
    "model.fit(X_train, y_train, verbose=False)\n",
    "roc_auc_score(y_test, model.predict_proba(X_test)[:,1])"
   ],
   "metadata": {
    "collapsed": false
   }
  },
  {
   "cell_type": "code",
   "execution_count": null,
   "outputs": [],
   "source": [
    "fix_params = {\"cat_features\": categorical,\n",
    "              \"loss_function\": \"Logloss\",\n",
    "              \"custom_metric\": \"AUC:hints=skip_train~false;type=Classic\",\n",
    "              \"eval_metric\": \"AUC:hints=skip_train~false;type=Classic\",\n",
    "              \"verbose\": False\n",
    "}"
   ],
   "metadata": {
    "collapsed": false
   }
  },
  {
   "cell_type": "markdown",
   "source": [
    "Без оптуны ну очень долго подбиралось, пришлось подрубить её"
   ],
   "metadata": {
    "collapsed": false
   }
  },
  {
   "cell_type": "code",
   "execution_count": null,
   "outputs": [],
   "source": [
    "import optuna\n",
    "from optuna.samplers import TPESampler\n",
    "def objective(trial):\n",
    "    model = CatBoostClassifier(\n",
    "        **fix_params,\n",
    "        score_function=trial.suggest_categorical(\"score_function\", [\"Cosine\", \"L2\"]),\n",
    "        depth=trial.suggest_int(\"depth\", 4, 6),\n",
    "        auto_class_weights=trial.suggest_categorical(\"auto_class_weights\", [None, \"Balanced\", \"SqrtBalanced\"]),\n",
    "        grow_policy=trial.suggest_categorical(\"grow_policy\", [\"Depthwise\", \"SymmetricTree\", \"Lossguide\"]),\n",
    "        iterations=trial.suggest_int(\"iterations\", 100, 1000),\n",
    "        learning_rate=trial.suggest_float(\"learning_rate\", .03, .9),\n",
    "        model_shrink_rate=trial.suggest_float(\"model_shrink_rate\", .001, .9),\n",
    "        model_shrink_mode=trial.suggest_categorical(\"model_shrink_mode\", [\"Constant\", \"Decreasing\"]),\n",
    "        l2_leaf_reg=trial.suggest_float(\"l2_leaf_reg\", 1, 1000, log=True),\n",
    "        leaf_estimation_method=trial.suggest_categorical(\"leaf_estimation_method\", [\"Newton\", \"Gradient\"]),\n",
    "        leaf_estimation_iterations=trial.suggest_int(\"leaf_estimation_iterations\", 1, 10),\n",
    "        leaf_estimation_backtracking=trial.suggest_categorical(\"leaf_estimation_backtracking\", [\"No\", \"AnyImprovement\"]),\n",
    "    )\n",
    "    model.fit(X_train, y_train)\n",
    "    return roc_auc_score(y_test, model.predict_proba(X_test)[:,1])\n",
    "optuna.logging.set_verbosity(optuna.logging.WARNING)\n",
    "sampler = TPESampler(seed=0)\n",
    "study = optuna.create_study(study_name=\"catboost\", direction=\"maximize\", sampler=sampler)\n",
    "study.optimize(objective, n_trials=200)\n",
    "trial = study.best_trial\n",
    "trial.value"
   ],
   "metadata": {
    "collapsed": false
   }
  },
  {
   "cell_type": "markdown",
   "source": [
    "Все параметры после этого вручную в словарь, чтобы закомментить долгий подбор параметров и скор быстрее пришёл, ну и да, iterations пришлось после этого дополнительно рандомить вручную для лучшего скора(там было около 507)"
   ],
   "metadata": {
    "collapsed": false
   }
  },
  {
   "cell_type": "code",
   "execution_count": null,
   "outputs": [],
   "source": [
    "trial.params"
   ],
   "metadata": {
    "collapsed": false
   }
  },
  {
   "cell_type": "code",
   "execution_count": null,
   "outputs": [],
   "source": [
    "res_params = {\n",
    "    \"score_function\": \"Cosine\",\n",
    "    \"depth\": 5,\n",
    "    \"auto_class_weights\": \"Balanced\",\n",
    "    \"grow_policy\": \"Lossguide\",\n",
    "    \"iterations\": 937,\n",
    "    \"learning_rate\": 0.12330483781630441,\n",
    "    \"model_shrink_rate\": 0.567999516152233,\n",
    "    \"model_shrink_mode\": \"Decreasing\",\n",
    "    \"l2_leaf_reg\": 392.6719565225887,\n",
    "    \"leaf_estimation_method\": \"Newton\",\n",
    "    \"leaf_estimation_iterations\": 1,\n",
    "    \"leaf_estimation_backtracking\": \"No\"\n",
    "}\n",
    "model = CatBoostClassifier(\n",
    "    **fix_params,\n",
    "    **res_params\n",
    ")\n",
    "model.fit(X, y)"
   ],
   "metadata": {
    "collapsed": false
   }
  },
  {
   "cell_type": "markdown",
   "source": [
    "Загрузим и предобработаем тестовые данные"
   ],
   "metadata": {
    "collapsed": false
   }
  },
  {
   "cell_type": "code",
   "execution_count": null,
   "outputs": [],
   "source": [
    "test = pd.read_csv(\"/kaggle/input/advanced-dls-spring-2021/test.csv\")\n",
    "test[\"TotalSpent\"][test[\"TotalSpent\"] == \" \"] = \"0\"\n",
    "test[\"TotalSpent\"] = test[\"TotalSpent\"].astype(float)\n",
    "test[\"TotalSpentLog\"] = np.log(test[\"TotalSpent\"] + 1)"
   ],
   "metadata": {
    "collapsed": false
   }
  },
  {
   "cell_type": "markdown",
   "source": [
    "Получим вероятности бустинга..."
   ],
   "metadata": {
    "collapsed": false
   }
  },
  {
   "cell_type": "code",
   "execution_count": null,
   "outputs": [],
   "source": [
    "pred = model.predict_proba(test)"
   ],
   "metadata": {
    "collapsed": false
   }
  },
  {
   "cell_type": "markdown",
   "source": [
    "... и загрузим их в csv"
   ],
   "metadata": {
    "collapsed": false
   }
  },
  {
   "cell_type": "code",
   "execution_count": null,
   "outputs": [],
   "source": [
    "sub = pd.read_csv(\"/kaggle/input/advanced-dls-spring-2021/submission.csv\")\n",
    "sub[\"Churn\"] = pred[:, 1]\n",
    "sub.to_csv(\"submission.csv\", index=False)\n",
    "sub = pd.read_csv(\"/kaggle/working/submission.csv\")\n",
    "sub"
   ],
   "metadata": {
    "collapsed": false
   }
  },
  {
   "cell_type": "markdown",
   "source": [
    "Итоговый скор: 0.85486"
   ],
   "metadata": {
    "collapsed": false
   }
  },
  {
   "cell_type": "markdown",
   "source": [
    "Статистика сабмитов:\n",
    "    logreg: 12\n",
    "    svc: 9\n",
    "    randomforest: 10\n",
    "    catboost: 61"
   ],
   "metadata": {
    "collapsed": false
   }
  }
 ],
 "metadata": {
  "kernelspec": {
   "display_name": "Python 3",
   "language": "python",
   "name": "python3"
  },
  "language_info": {
   "codemirror_mode": {
    "name": "ipython",
    "version": 2
   },
   "file_extension": ".py",
   "mimetype": "text/x-python",
   "name": "python",
   "nbconvert_exporter": "python",
   "pygments_lexer": "ipython2",
   "version": "2.7.6"
  }
 },
 "nbformat": 4,
 "nbformat_minor": 0
}
