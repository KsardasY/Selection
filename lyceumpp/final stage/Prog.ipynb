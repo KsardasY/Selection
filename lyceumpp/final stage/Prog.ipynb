{
 "cells": [
  {
   "cell_type": "markdown",
   "source": [
    "Загрузим базу данных в фрейм и выведем несколько строк"
   ],
   "metadata": {
    "collapsed": false,
    "pycharm": {
     "name": "#%% md\n"
    }
   }
  },
  {
   "cell_type": "code",
   "execution_count": 515,
   "outputs": [
    {
     "data": {
      "text/plain": "     survived  pclass     sex   age  sibsp  parch     fare embarked   class  \\\n532         0       3    male  17.0      1      1   7.2292        C   Third   \n520         1       1  female  30.0      0      0  93.5000        S   First   \n183         1       2    male   1.0      2      1  39.0000        S  Second   \n63          0       3    male   4.0      3      2  27.9000        S   Third   \n841         0       2    male  16.0      0      0  10.5000        S  Second   \n582         0       2    male  54.0      0      0  26.0000        S  Second   \n\n       who  adult_male deck  embark_town alive  alone  \n532    man        True  NaN    Cherbourg    no  False  \n520  woman       False    B  Southampton   yes   True  \n183  child       False    F  Southampton   yes  False  \n63   child       False  NaN  Southampton    no  False  \n841    man        True  NaN  Southampton    no   True  \n582    man        True  NaN  Southampton    no   True  ",
      "text/html": "<div>\n<style scoped>\n    .dataframe tbody tr th:only-of-type {\n        vertical-align: middle;\n    }\n\n    .dataframe tbody tr th {\n        vertical-align: top;\n    }\n\n    .dataframe thead th {\n        text-align: right;\n    }\n</style>\n<table border=\"1\" class=\"dataframe\">\n  <thead>\n    <tr style=\"text-align: right;\">\n      <th></th>\n      <th>survived</th>\n      <th>pclass</th>\n      <th>sex</th>\n      <th>age</th>\n      <th>sibsp</th>\n      <th>parch</th>\n      <th>fare</th>\n      <th>embarked</th>\n      <th>class</th>\n      <th>who</th>\n      <th>adult_male</th>\n      <th>deck</th>\n      <th>embark_town</th>\n      <th>alive</th>\n      <th>alone</th>\n    </tr>\n  </thead>\n  <tbody>\n    <tr>\n      <th>532</th>\n      <td>0</td>\n      <td>3</td>\n      <td>male</td>\n      <td>17.0</td>\n      <td>1</td>\n      <td>1</td>\n      <td>7.2292</td>\n      <td>C</td>\n      <td>Third</td>\n      <td>man</td>\n      <td>True</td>\n      <td>NaN</td>\n      <td>Cherbourg</td>\n      <td>no</td>\n      <td>False</td>\n    </tr>\n    <tr>\n      <th>520</th>\n      <td>1</td>\n      <td>1</td>\n      <td>female</td>\n      <td>30.0</td>\n      <td>0</td>\n      <td>0</td>\n      <td>93.5000</td>\n      <td>S</td>\n      <td>First</td>\n      <td>woman</td>\n      <td>False</td>\n      <td>B</td>\n      <td>Southampton</td>\n      <td>yes</td>\n      <td>True</td>\n    </tr>\n    <tr>\n      <th>183</th>\n      <td>1</td>\n      <td>2</td>\n      <td>male</td>\n      <td>1.0</td>\n      <td>2</td>\n      <td>1</td>\n      <td>39.0000</td>\n      <td>S</td>\n      <td>Second</td>\n      <td>child</td>\n      <td>False</td>\n      <td>F</td>\n      <td>Southampton</td>\n      <td>yes</td>\n      <td>False</td>\n    </tr>\n    <tr>\n      <th>63</th>\n      <td>0</td>\n      <td>3</td>\n      <td>male</td>\n      <td>4.0</td>\n      <td>3</td>\n      <td>2</td>\n      <td>27.9000</td>\n      <td>S</td>\n      <td>Third</td>\n      <td>child</td>\n      <td>False</td>\n      <td>NaN</td>\n      <td>Southampton</td>\n      <td>no</td>\n      <td>False</td>\n    </tr>\n    <tr>\n      <th>841</th>\n      <td>0</td>\n      <td>2</td>\n      <td>male</td>\n      <td>16.0</td>\n      <td>0</td>\n      <td>0</td>\n      <td>10.5000</td>\n      <td>S</td>\n      <td>Second</td>\n      <td>man</td>\n      <td>True</td>\n      <td>NaN</td>\n      <td>Southampton</td>\n      <td>no</td>\n      <td>True</td>\n    </tr>\n    <tr>\n      <th>582</th>\n      <td>0</td>\n      <td>2</td>\n      <td>male</td>\n      <td>54.0</td>\n      <td>0</td>\n      <td>0</td>\n      <td>26.0000</td>\n      <td>S</td>\n      <td>Second</td>\n      <td>man</td>\n      <td>True</td>\n      <td>NaN</td>\n      <td>Southampton</td>\n      <td>no</td>\n      <td>True</td>\n    </tr>\n  </tbody>\n</table>\n</div>"
     },
     "execution_count": 515,
     "metadata": {},
     "output_type": "execute_result"
    }
   ],
   "source": [
    "import pandas as pd\n",
    "titanic_f = pd.read_csv('titanic.csv')\n",
    "titanic_f.sample(6)"
   ],
   "metadata": {
    "collapsed": false,
    "pycharm": {
     "name": "#%%\n"
    }
   }
  },
  {
   "cell_type": "markdown",
   "source": [
    "Выведем информацию о базе данных, чтобы узнать о её структуре и количестве пустых ячеек"
   ],
   "metadata": {
    "collapsed": false,
    "pycharm": {
     "name": "#%% md\n"
    }
   }
  },
  {
   "cell_type": "code",
   "execution_count": 516,
   "outputs": [
    {
     "name": "stdout",
     "output_type": "stream",
     "text": [
      "<class 'pandas.core.frame.DataFrame'>\n",
      "RangeIndex: 891 entries, 0 to 890\n",
      "Data columns (total 15 columns):\n",
      " #   Column       Non-Null Count  Dtype  \n",
      "---  ------       --------------  -----  \n",
      " 0   survived     891 non-null    int64  \n",
      " 1   pclass       891 non-null    int64  \n",
      " 2   sex          891 non-null    object \n",
      " 3   age          714 non-null    float64\n",
      " 4   sibsp        891 non-null    int64  \n",
      " 5   parch        891 non-null    int64  \n",
      " 6   fare         891 non-null    float64\n",
      " 7   embarked     889 non-null    object \n",
      " 8   class        891 non-null    object \n",
      " 9   who          891 non-null    object \n",
      " 10  adult_male   891 non-null    bool   \n",
      " 11  deck         203 non-null    object \n",
      " 12  embark_town  889 non-null    object \n",
      " 13  alive        891 non-null    object \n",
      " 14  alone        891 non-null    bool   \n",
      "dtypes: bool(2), float64(2), int64(4), object(7)\n",
      "memory usage: 92.4+ KB\n"
     ]
    }
   ],
   "source": [
    "titanic_f.info()"
   ],
   "metadata": {
    "collapsed": false,
    "pycharm": {
     "name": "#%%\n"
    }
   }
  },
  {
   "cell_type": "markdown",
   "source": [
    "Выведем таблицу столбцов, в которых есть пропуски и построим диаграмму, чтобы было проще анализировать"
   ],
   "metadata": {
    "collapsed": false,
    "pycharm": {
     "name": "#%% md\n"
    }
   }
  },
  {
   "cell_type": "code",
   "execution_count": 517,
   "outputs": [
    {
     "data": {
      "text/plain": "deck           688\nage            177\nembarked         2\nembark_town      2\nName: leak, dtype: int64"
     },
     "execution_count": 517,
     "metadata": {},
     "output_type": "execute_result"
    }
   ],
   "source": [
    "leak = pd.isnull(titanic_f).sum()\n",
    "leak = leak[leak != 0].sort_values(ascending=False)\n",
    "leak.name = 'leak'\n",
    "known = leak.map(lambda x: len(titanic_f) - x)\n",
    "known.name = 'known'\n",
    "leak"
   ],
   "metadata": {
    "collapsed": false,
    "pycharm": {
     "name": "#%%\n"
    }
   }
  },
  {
   "cell_type": "code",
   "execution_count": 518,
   "outputs": [
    {
     "data": {
      "text/plain": "<AxesSubplot:>"
     },
     "execution_count": 518,
     "metadata": {},
     "output_type": "execute_result"
    },
    {
     "data": {
      "text/plain": "<Figure size 720x504 with 1 Axes>",
      "image/png": "[encoded data removed]"
     },
     "metadata": {
      "needs_background": "light"
     },
     "output_type": "display_data"
    }
   ],
   "source": [
    "pd.DataFrame({x.name: x for x in [known, leak]}).plot.bar(stacked=True, figsize=(10, 7),\n",
    "                                                          color=['mediumspringgreen', 'slateblue'])"
   ],
   "metadata": {
    "collapsed": false,
    "pycharm": {
     "name": "#%%\n"
    }
   }
  },
  {
   "cell_type": "markdown",
   "source": [
    "В последних 2х столбцах заменим пустые значения на моду, а во 2м на медианы среди детей, женщин и мужчин"
   ],
   "metadata": {
    "collapsed": false
   }
  },
  {
   "cell_type": "code",
   "execution_count": 519,
   "outputs": [],
   "source": [
    "titanic_f['embarked'].fillna(titanic_f['embarked'].mode()[0], inplace=True)\n",
    "titanic_f['embark_town'].fillna(titanic_f['embark_town'].mode()[0], inplace=True)\n",
    "titanic_f['age'].fillna(titanic_f.groupby(['who'])['age'].transform('median'), inplace=True)"
   ],
   "metadata": {
    "collapsed": false,
    "pycharm": {
     "name": "#%%\n"
    }
   }
  },
  {
   "cell_type": "markdown",
   "source": [
    "В 1м столбце слишком много пропусков, поэтому проанализируем зависимость палубы от класса билета"
   ],
   "metadata": {
    "collapsed": false
   }
  },
  {
   "cell_type": "code",
   "execution_count": 520,
   "outputs": [
    {
     "data": {
      "text/plain": "deck       A     B     C     D     E    F    G\nclass                                         \nFirst   15.0  47.0  59.0  29.0  25.0  NaN  NaN\nSecond   NaN   NaN   NaN   4.0   4.0  8.0  NaN\nThird    NaN   NaN   NaN   NaN   3.0  5.0  4.0",
      "text/html": "<div>\n<style scoped>\n    .dataframe tbody tr th:only-of-type {\n        vertical-align: middle;\n    }\n\n    .dataframe tbody tr th {\n        vertical-align: top;\n    }\n\n    .dataframe thead th {\n        text-align: right;\n    }\n</style>\n<table border=\"1\" class=\"dataframe\">\n  <thead>\n    <tr style=\"text-align: right;\">\n      <th>deck</th>\n      <th>A</th>\n      <th>B</th>\n      <th>C</th>\n      <th>D</th>\n      <th>E</th>\n      <th>F</th>\n      <th>G</th>\n    </tr>\n    <tr>\n      <th>class</th>\n      <th></th>\n      <th></th>\n      <th></th>\n      <th></th>\n      <th></th>\n      <th></th>\n      <th></th>\n    </tr>\n  </thead>\n  <tbody>\n    <tr>\n      <th>First</th>\n      <td>15.0</td>\n      <td>47.0</td>\n      <td>59.0</td>\n      <td>29.0</td>\n      <td>25.0</td>\n      <td>NaN</td>\n      <td>NaN</td>\n    </tr>\n    <tr>\n      <th>Second</th>\n      <td>NaN</td>\n      <td>NaN</td>\n      <td>NaN</td>\n      <td>4.0</td>\n      <td>4.0</td>\n      <td>8.0</td>\n      <td>NaN</td>\n    </tr>\n    <tr>\n      <th>Third</th>\n      <td>NaN</td>\n      <td>NaN</td>\n      <td>NaN</td>\n      <td>NaN</td>\n      <td>3.0</td>\n      <td>5.0</td>\n      <td>4.0</td>\n    </tr>\n  </tbody>\n</table>\n</div>"
     },
     "execution_count": 520,
     "metadata": {},
     "output_type": "execute_result"
    }
   ],
   "source": [
    "pvt = titanic_f.pivot_table(index=['class'], columns=['deck'], values='pclass', aggfunc='count')\n",
    "pvt"
   ],
   "metadata": {
    "collapsed": false,
    "pycharm": {
     "name": "#%%\n"
    }
   }
  },
  {
   "cell_type": "code",
   "execution_count": 521,
   "outputs": [
    {
     "data": {
      "text/plain": "<AxesSubplot:xlabel='class'>"
     },
     "execution_count": 521,
     "metadata": {},
     "output_type": "execute_result"
    },
    {
     "data": {
      "text/plain": "<Figure size 720x504 with 1 Axes>",
      "image/png": "[encoded data removed]"
     },
     "metadata": {
      "needs_background": "light"
     },
     "output_type": "display_data"
    }
   ],
   "source": [
    "pvt.fillna(0).plot.bar(stacked=True, figsize=(10, 7),\n",
    "                       color=['cyan', 'deepskyblue', 'royalblue', 'navy', 'darkviolet', 'magenta', 'crimson'])"
   ],
   "metadata": {
    "collapsed": false,
    "pycharm": {
     "name": "#%%\n"
    }
   }
  },
  {
   "cell_type": "markdown",
   "source": [
    "Так как данных для людей с билетами 1го класса много, распределим их пропорционально, остальных расределим случайным образом среди палуб, в которых были пассажиры с билетами этих классов, можно было бы использовать какие-нибудь средние, но тогда получился бы перебор на некоторых палубах"
   ],
   "metadata": {
    "collapsed": false,
    "pycharm": {
     "name": "#%% md\n"
    }
   }
  },
  {
   "cell_type": "code",
   "execution_count": 522,
   "outputs": [],
   "source": [
    "from random import choices as chs\n",
    "\n",
    "\n",
    "first = pvt.loc['First'].dropna()\n",
    "ws = [first.tolist(), [1, 1, 1]]\n",
    "vs = [first.index.tolist(), pvt.loc['Second'].dropna().index.tolist(), pvt.loc['Third'].dropna().index.tolist()]\n",
    "for i in titanic_f.index:\n",
    "    if not(isinstance(titanic_f.deck[i], str)):\n",
    "        titanic_f.loc[i, 'deck'] = chs(vs[titanic_f.pclass[i] - 1], weights=ws[titanic_f.pclass[i] // 2])[0]"
   ],
   "metadata": {
    "collapsed": false,
    "pycharm": {
     "name": "#%%\n"
    }
   }
  },
  {
   "cell_type": "markdown",
   "source": [
    "Полюбуемся распределением"
   ],
   "metadata": {
    "collapsed": false
   }
  },
  {
   "cell_type": "code",
   "execution_count": 523,
   "outputs": [
    {
     "data": {
      "text/plain": "<AxesSubplot:xlabel='class'>"
     },
     "execution_count": 523,
     "metadata": {},
     "output_type": "execute_result"
    },
    {
     "data": {
      "text/plain": "<Figure size 720x504 with 1 Axes>",
      "image/png": "[encoded data removed]"
     },
     "metadata": {
      "needs_background": "light"
     },
     "output_type": "display_data"
    }
   ],
   "source": [
    "titanic_f.pivot_table(index=['class'], columns=['deck'], values='pclass', aggfunc='count').fillna(0).plot.bar(stacked=True, figsize=(10, 7), color=['cyan', 'deepskyblue', 'royalblue', 'navy', 'darkviolet', 'magenta', 'crimson'])"
   ],
   "metadata": {
    "collapsed": false,
    "pycharm": {
     "name": "#%%\n"
    }
   }
  },
  {
   "cell_type": "markdown",
   "source": [
    "Убедимся, что пустых ячеек не осталось"
   ],
   "metadata": {
    "collapsed": false
   }
  },
  {
   "cell_type": "code",
   "execution_count": 524,
   "outputs": [
    {
     "data": {
      "text/plain": "Series([], Name: there are no empty values here, dtype: int64)"
     },
     "execution_count": 524,
     "metadata": {},
     "output_type": "execute_result"
    }
   ],
   "source": [
    "last_leak = pd.isnull(titanic_f).sum()\n",
    "last_leak = last_leak[last_leak != 0].sort_values(ascending=False)\n",
    "last_leak.name = 'there are no empty values here'\n",
    "last_leak"
   ],
   "metadata": {
    "collapsed": false,
    "pycharm": {
     "name": "#%%\n"
    }
   }
  },
  {
   "cell_type": "markdown",
   "source": [
    "Ответим на вопросы 3го номера"
   ],
   "metadata": {
    "collapsed": false,
    "pycharm": {
     "name": "#%% md\n"
    }
   }
  },
  {
   "cell_type": "code",
   "execution_count": 525,
   "outputs": [
    {
     "name": "stdout",
     "output_type": "stream",
     "text": [
      "a. Мужчин больше: 577 > 314\n",
      "b. 60%\n",
      "c. 1й: 216, 2й: 184, 3й: 491\n"
     ]
    }
   ],
   "source": [
    "ct = {'male': len(titanic_f[titanic_f.sex == 'male'])}\n",
    "ct['female'] = len(titanic_f) - ct['male']\n",
    "print(\"a. Мужчин больше: {0} > {1}\".format(ct['male'], ct['female']))\n",
    "print(\"b. {0:2.0f}%\".format(100 * sum(titanic_f['adult_male']) / len(titanic_f)))\n",
    "print(\"c. 1й: {0}, 2й: {1}, 3й: {2}\".format(len(titanic_f[titanic_f.pclass == 1]),\n",
    "                                            len(titanic_f[titanic_f.pclass == 2]),\n",
    "                                            len(titanic_f[titanic_f.pclass == 3])))"
   ],
   "metadata": {
    "collapsed": false,
    "pycharm": {
     "name": "#%%\n"
    }
   }
  },
  {
   "cell_type": "markdown",
   "source": [
    "Проанализируем заполненную таблицу"
   ],
   "metadata": {
    "collapsed": false
   }
  },
  {
   "cell_type": "code",
   "execution_count": 526,
   "outputs": [
    {
     "data": {
      "text/plain": "         survived      pclass         age       sibsp       parch        fare\ncount  891.000000  891.000000  891.000000  891.000000  891.000000  891.000000\nmean     0.383838    2.308642   29.758889    0.523008    0.381594   32.204208\nstd      0.486592    0.836071   13.002570    1.102743    0.806057   49.693429\nmin      0.000000    1.000000    0.420000    0.000000    0.000000    0.000000\n25%      0.000000    2.000000   22.000000    0.000000    0.000000    7.910400\n50%      0.000000    3.000000   30.000000    0.000000    0.000000   14.454200\n75%      1.000000    3.000000   35.000000    1.000000    0.000000   31.000000\nmax      1.000000    3.000000   80.000000    8.000000    6.000000  512.329200",
      "text/html": "<div>\n<style scoped>\n    .dataframe tbody tr th:only-of-type {\n        vertical-align: middle;\n    }\n\n    .dataframe tbody tr th {\n        vertical-align: top;\n    }\n\n    .dataframe thead th {\n        text-align: right;\n    }\n</style>\n<table border=\"1\" class=\"dataframe\">\n  <thead>\n    <tr style=\"text-align: right;\">\n      <th></th>\n      <th>survived</th>\n      <th>pclass</th>\n      <th>age</th>\n      <th>sibsp</th>\n      <th>parch</th>\n      <th>fare</th>\n    </tr>\n  </thead>\n  <tbody>\n    <tr>\n      <th>count</th>\n      <td>891.000000</td>\n      <td>891.000000</td>\n      <td>891.000000</td>\n      <td>891.000000</td>\n      <td>891.000000</td>\n      <td>891.000000</td>\n    </tr>\n    <tr>\n      <th>mean</th>\n      <td>0.383838</td>\n      <td>2.308642</td>\n      <td>29.758889</td>\n      <td>0.523008</td>\n      <td>0.381594</td>\n      <td>32.204208</td>\n    </tr>\n    <tr>\n      <th>std</th>\n      <td>0.486592</td>\n      <td>0.836071</td>\n      <td>13.002570</td>\n      <td>1.102743</td>\n      <td>0.806057</td>\n      <td>49.693429</td>\n    </tr>\n    <tr>\n      <th>min</th>\n      <td>0.000000</td>\n      <td>1.000000</td>\n      <td>0.420000</td>\n      <td>0.000000</td>\n      <td>0.000000</td>\n      <td>0.000000</td>\n    </tr>\n    <tr>\n      <th>25%</th>\n      <td>0.000000</td>\n      <td>2.000000</td>\n      <td>22.000000</td>\n      <td>0.000000</td>\n      <td>0.000000</td>\n      <td>7.910400</td>\n    </tr>\n    <tr>\n      <th>50%</th>\n      <td>0.000000</td>\n      <td>3.000000</td>\n      <td>30.000000</td>\n      <td>0.000000</td>\n      <td>0.000000</td>\n      <td>14.454200</td>\n    </tr>\n    <tr>\n      <th>75%</th>\n      <td>1.000000</td>\n      <td>3.000000</td>\n      <td>35.000000</td>\n      <td>1.000000</td>\n      <td>0.000000</td>\n      <td>31.000000</td>\n    </tr>\n    <tr>\n      <th>max</th>\n      <td>1.000000</td>\n      <td>3.000000</td>\n      <td>80.000000</td>\n      <td>8.000000</td>\n      <td>6.000000</td>\n      <td>512.329200</td>\n    </tr>\n  </tbody>\n</table>\n</div>"
     },
     "execution_count": 526,
     "metadata": {},
     "output_type": "execute_result"
    }
   ],
   "source": [
    "titanic_f.describe()"
   ],
   "metadata": {
    "collapsed": false,
    "pycharm": {
     "name": "#%%\n"
    }
   }
  },
  {
   "cell_type": "markdown",
   "source": [
    "Средний возраст выживших легче будет найти по таблице выживших(5е задание)\n",
    "Наиболее интересные выводы по этой таблице:\n",
    "    Самому старому пассажиру было 80 лет\n",
    "    Средний возраст на борту составлял 29 лет\n",
    "    Выживаемость в среднем равна 38%\n"
   ],
   "metadata": {
    "collapsed": false
   }
  },
  {
   "cell_type": "markdown",
   "source": [
    "Найдем распределение детей, мужчин и женщин по классам"
   ],
   "metadata": {
    "collapsed": false
   }
  },
  {
   "cell_type": "code",
   "execution_count": 527,
   "outputs": [
    {
     "data": {
      "text/plain": "class     First    Second     Third\nwho                                \nchild  0.072289  0.228916  0.698795\nman    0.221601  0.184358  0.594041\nwoman  0.335793  0.243542  0.420664",
      "text/html": "<div>\n<style scoped>\n    .dataframe tbody tr th:only-of-type {\n        vertical-align: middle;\n    }\n\n    .dataframe tbody tr th {\n        vertical-align: top;\n    }\n\n    .dataframe thead th {\n        text-align: right;\n    }\n</style>\n<table border=\"1\" class=\"dataframe\">\n  <thead>\n    <tr style=\"text-align: right;\">\n      <th>class</th>\n      <th>First</th>\n      <th>Second</th>\n      <th>Third</th>\n    </tr>\n    <tr>\n      <th>who</th>\n      <th></th>\n      <th></th>\n      <th></th>\n    </tr>\n  </thead>\n  <tbody>\n    <tr>\n      <th>child</th>\n      <td>0.072289</td>\n      <td>0.228916</td>\n      <td>0.698795</td>\n    </tr>\n    <tr>\n      <th>man</th>\n      <td>0.221601</td>\n      <td>0.184358</td>\n      <td>0.594041</td>\n    </tr>\n    <tr>\n      <th>woman</th>\n      <td>0.335793</td>\n      <td>0.243542</td>\n      <td>0.420664</td>\n    </tr>\n  </tbody>\n</table>\n</div>"
     },
     "execution_count": 527,
     "metadata": {},
     "output_type": "execute_result"
    }
   ],
   "source": [
    "cpvt = titanic_f.pivot_table(index=['who'], columns=['class'], values='pclass',\n",
    "                             aggfunc=lambda x: x.count())\n",
    "cw = {'man': len(titanic_f[titanic_f.who == 'man']), 'woman': len(titanic_f[titanic_f.who == 'woman']),\n",
    "      'child': len(titanic_f[titanic_f.who == 'child'])}\n",
    "for x in cpvt.index:\n",
    "    cpvt.loc[x] = list(map(lambda z: z / cw[x], cpvt.loc[x]))\n",
    "cpvt"
   ],
   "metadata": {
    "collapsed": false,
    "pycharm": {
     "name": "#%%\n"
    }
   }
  },
  {
   "cell_type": "code",
   "execution_count": 528,
   "outputs": [
    {
     "data": {
      "text/plain": "<AxesSubplot:xlabel='class'>"
     },
     "execution_count": 528,
     "metadata": {},
     "output_type": "execute_result"
    },
    {
     "data": {
      "text/plain": "<Figure size 720x504 with 1 Axes>",
      "image/png": "[encoded data removed]"
     },
     "metadata": {
      "needs_background": "light"
     },
     "output_type": "display_data"
    }
   ],
   "source": [
    "cpvt.T.plot.bar(figsize=(10, 7), color=['cyan', 'navy', 'crimson'])"
   ],
   "metadata": {
    "collapsed": false,
    "pycharm": {
     "name": "#%%\n"
    }
   }
  },
  {
   "cell_type": "markdown",
   "source": [
    "По этой диаграмме можно заметить, что женщины чаще мужчин и детей плыли билетом 1 или 2 класса, а среди детей преобладают билеты 3го класса, но в большая часть каждой из категорий плыла 3м классом"
   ],
   "metadata": {
    "collapsed": false
   }
  },
  {
   "cell_type": "code",
   "execution_count": 529,
   "outputs": [
    {
     "data": {
      "text/plain": "who\nchild     5.0\nman      30.0\nwoman    30.0\nName: age, dtype: float64"
     },
     "execution_count": 529,
     "metadata": {},
     "output_type": "execute_result"
    }
   ],
   "source": [
    "titanic_f.groupby(['who'])['age'].median()"
   ],
   "metadata": {
    "collapsed": false,
    "pycharm": {
     "name": "#%%\n"
    }
   }
  },
  {
   "cell_type": "markdown",
   "source": [
    "По этой таблице можно увидеть средний возраст(медиану) для детей, мужчин и женщин"
   ],
   "metadata": {
    "collapsed": false,
    "pycharm": {
     "name": "#%% md\n"
    }
   }
  },
  {
   "cell_type": "code",
   "execution_count": 530,
   "outputs": [
    {
     "name": "stdout",
     "output_type": "stream",
     "text": [
      "Столбцы \"embarked\" и \"embark_town\", \"class\" и \"pclass\", \"survived\" и \"alive\" идентичны, а информация в столбцах \"adult_male\" и \"alone\" однозначно определяется по столбцам \"who\" и \"parch\" с \"sibsp\" соответственно, скорее всего они идентичны\n"
     ]
    }
   ],
   "source": [
    "emb = {'S': 'Southampton', 'C': 'Cherbourg', 'Q': 'Queenstown'}\n",
    "cl = ['First', 'Second', 'Third']\n",
    "sd = ['no', 'yes']\n",
    "al = lambda x: False if (x.parch + x.sibsp != 0) else True\n",
    "f = len(titanic_f[titanic_f.adult_male]) == len(titanic_f[titanic_f.who == 'man'])\n",
    "for i in titanic_f.index:\n",
    "    f = f and (emb[titanic_f.loc[i]['embarked']] == titanic_f.loc[i]['embark_town']) and (cl[titanic_f.loc[i]['pclass'] - 1] == titanic_f.loc[i]['class']) and (sd[titanic_f.loc[i]['survived']] == titanic_f.loc[i]['alive']) and (al(titanic_f.loc[i]) == titanic_f.loc[i].alone)\n",
    "if f:\n",
    "    print('Столбцы \"embarked\" и \"embark_town\", \"class\" и \"pclass\", \"survived\" и \"alive\" идентичны, а информация в столбцах \"adult_male\" и \"alone\" однозначно определяется по столбцам \"who\" и \"parch\" с \"sibsp\" соответственно, скорее всего они идентичны')"
   ],
   "metadata": {
    "collapsed": false,
    "pycharm": {
     "name": "#%%\n"
    }
   }
  },
  {
   "cell_type": "markdown",
   "source": [
    "Создадим таблицу с выжившими и импортируем из нее данные в новый фрейм"
   ],
   "metadata": {
    "collapsed": false
   }
  },
  {
   "cell_type": "code",
   "execution_count": 531,
   "outputs": [
    {
     "data": {
      "text/plain": "     survived  pclass     sex   age  sibsp  parch     fare embarked   class  \\\n0           1       1  female  38.0      1      0  71.2833        C   First   \n1           1       3  female  26.0      0      0   7.9250        S   Third   \n2           1       1  female  35.0      1      0  53.1000        S   First   \n3           1       3  female  27.0      0      2  11.1333        S   Third   \n4           1       2  female  14.0      1      0  30.0708        C  Second   \n..        ...     ...     ...   ...    ...    ...      ...      ...     ...   \n337         1       3  female  15.0      0      0   7.2250        C   Third   \n338         1       1  female  56.0      0      1  83.1583        C   First   \n339         1       2  female  25.0      0      1  26.0000        S  Second   \n340         1       1  female  19.0      0      0  30.0000        S   First   \n341         1       1    male  26.0      0      0  30.0000        C   First   \n\n       who  adult_male deck  embark_town alive  alone  \n0    woman       False    C    Cherbourg   yes  False  \n1    woman       False    E  Southampton   yes   True  \n2    woman       False    C  Southampton   yes  False  \n3    woman       False    E  Southampton   yes  False  \n4    child       False    E    Cherbourg   yes  False  \n..     ...         ...  ...          ...   ...    ...  \n337  child       False    G    Cherbourg   yes   True  \n338  woman       False    C    Cherbourg   yes  False  \n339  woman       False    F  Southampton   yes  False  \n340  woman       False    B  Southampton   yes   True  \n341    man        True    C    Cherbourg   yes   True  \n\n[342 rows x 15 columns]",
      "text/html": "<div>\n<style scoped>\n    .dataframe tbody tr th:only-of-type {\n        vertical-align: middle;\n    }\n\n    .dataframe tbody tr th {\n        vertical-align: top;\n    }\n\n    .dataframe thead th {\n        text-align: right;\n    }\n</style>\n<table border=\"1\" class=\"dataframe\">\n  <thead>\n    <tr style=\"text-align: right;\">\n      <th></th>\n      <th>survived</th>\n      <th>pclass</th>\n      <th>sex</th>\n      <th>age</th>\n      <th>sibsp</th>\n      <th>parch</th>\n      <th>fare</th>\n      <th>embarked</th>\n      <th>class</th>\n      <th>who</th>\n      <th>adult_male</th>\n      <th>deck</th>\n      <th>embark_town</th>\n      <th>alive</th>\n      <th>alone</th>\n    </tr>\n  </thead>\n  <tbody>\n    <tr>\n      <th>0</th>\n      <td>1</td>\n      <td>1</td>\n      <td>female</td>\n      <td>38.0</td>\n      <td>1</td>\n      <td>0</td>\n      <td>71.2833</td>\n      <td>C</td>\n      <td>First</td>\n      <td>woman</td>\n      <td>False</td>\n      <td>C</td>\n      <td>Cherbourg</td>\n      <td>yes</td>\n      <td>False</td>\n    </tr>\n    <tr>\n      <th>1</th>\n      <td>1</td>\n      <td>3</td>\n      <td>female</td>\n      <td>26.0</td>\n      <td>0</td>\n      <td>0</td>\n      <td>7.9250</td>\n      <td>S</td>\n      <td>Third</td>\n      <td>woman</td>\n      <td>False</td>\n      <td>E</td>\n      <td>Southampton</td>\n      <td>yes</td>\n      <td>True</td>\n    </tr>\n    <tr>\n      <th>2</th>\n      <td>1</td>\n      <td>1</td>\n      <td>female</td>\n      <td>35.0</td>\n      <td>1</td>\n      <td>0</td>\n      <td>53.1000</td>\n      <td>S</td>\n      <td>First</td>\n      <td>woman</td>\n      <td>False</td>\n      <td>C</td>\n      <td>Southampton</td>\n      <td>yes</td>\n      <td>False</td>\n    </tr>\n    <tr>\n      <th>3</th>\n      <td>1</td>\n      <td>3</td>\n      <td>female</td>\n      <td>27.0</td>\n      <td>0</td>\n      <td>2</td>\n      <td>11.1333</td>\n      <td>S</td>\n      <td>Third</td>\n      <td>woman</td>\n      <td>False</td>\n      <td>E</td>\n      <td>Southampton</td>\n      <td>yes</td>\n      <td>False</td>\n    </tr>\n    <tr>\n      <th>4</th>\n      <td>1</td>\n      <td>2</td>\n      <td>female</td>\n      <td>14.0</td>\n      <td>1</td>\n      <td>0</td>\n      <td>30.0708</td>\n      <td>C</td>\n      <td>Second</td>\n      <td>child</td>\n      <td>False</td>\n      <td>E</td>\n      <td>Cherbourg</td>\n      <td>yes</td>\n      <td>False</td>\n    </tr>\n    <tr>\n      <th>...</th>\n      <td>...</td>\n      <td>...</td>\n      <td>...</td>\n      <td>...</td>\n      <td>...</td>\n      <td>...</td>\n      <td>...</td>\n      <td>...</td>\n      <td>...</td>\n      <td>...</td>\n      <td>...</td>\n      <td>...</td>\n      <td>...</td>\n      <td>...</td>\n      <td>...</td>\n    </tr>\n    <tr>\n      <th>337</th>\n      <td>1</td>\n      <td>3</td>\n      <td>female</td>\n      <td>15.0</td>\n      <td>0</td>\n      <td>0</td>\n      <td>7.2250</td>\n      <td>C</td>\n      <td>Third</td>\n      <td>child</td>\n      <td>False</td>\n      <td>G</td>\n      <td>Cherbourg</td>\n      <td>yes</td>\n      <td>True</td>\n    </tr>\n    <tr>\n      <th>338</th>\n      <td>1</td>\n      <td>1</td>\n      <td>female</td>\n      <td>56.0</td>\n      <td>0</td>\n      <td>1</td>\n      <td>83.1583</td>\n      <td>C</td>\n      <td>First</td>\n      <td>woman</td>\n      <td>False</td>\n      <td>C</td>\n      <td>Cherbourg</td>\n      <td>yes</td>\n      <td>False</td>\n    </tr>\n    <tr>\n      <th>339</th>\n      <td>1</td>\n      <td>2</td>\n      <td>female</td>\n      <td>25.0</td>\n      <td>0</td>\n      <td>1</td>\n      <td>26.0000</td>\n      <td>S</td>\n      <td>Second</td>\n      <td>woman</td>\n      <td>False</td>\n      <td>F</td>\n      <td>Southampton</td>\n      <td>yes</td>\n      <td>False</td>\n    </tr>\n    <tr>\n      <th>340</th>\n      <td>1</td>\n      <td>1</td>\n      <td>female</td>\n      <td>19.0</td>\n      <td>0</td>\n      <td>0</td>\n      <td>30.0000</td>\n      <td>S</td>\n      <td>First</td>\n      <td>woman</td>\n      <td>False</td>\n      <td>B</td>\n      <td>Southampton</td>\n      <td>yes</td>\n      <td>True</td>\n    </tr>\n    <tr>\n      <th>341</th>\n      <td>1</td>\n      <td>1</td>\n      <td>male</td>\n      <td>26.0</td>\n      <td>0</td>\n      <td>0</td>\n      <td>30.0000</td>\n      <td>C</td>\n      <td>First</td>\n      <td>man</td>\n      <td>True</td>\n      <td>C</td>\n      <td>Cherbourg</td>\n      <td>yes</td>\n      <td>True</td>\n    </tr>\n  </tbody>\n</table>\n<p>342 rows × 15 columns</p>\n</div>"
     },
     "execution_count": 531,
     "metadata": {},
     "output_type": "execute_result"
    }
   ],
   "source": [
    "tbl = titanic_f[titanic_f.survived == 1].copy()\n",
    "tbl.to_csv(\"survived.csv\", index=False)\n",
    "srvd = pd.read_csv(\"survived.csv\")\n",
    "srvd"
   ],
   "metadata": {
    "collapsed": false,
    "pycharm": {
     "name": "#%%\n"
    }
   }
  },
  {
   "cell_type": "markdown",
   "source": [
    "Сразу же ответим на вопрос из 4го задания"
   ],
   "metadata": {
    "collapsed": false
   }
  },
  {
   "cell_type": "code",
   "execution_count": 532,
   "outputs": [
    {
     "name": "stdout",
     "output_type": "stream",
     "text": [
      "Средний возраст выживших: 29\n"
     ]
    }
   ],
   "source": [
    "print('Средний возраст выживших: {0:2.0f}'.format(srvd.age.mean()))"
   ],
   "metadata": {
    "collapsed": false,
    "pycharm": {
     "name": "#%%\n"
    }
   }
  },
  {
   "cell_type": "markdown",
   "source": [
    "Проанализируем связь выживаемости и различных показателей, создадим фрейм и построим диаграмму, на которой будет видна доля детей, женщин и мужчин сначала для всех пассажиров титаника, а затем только для выживших"
   ],
   "metadata": {
    "collapsed": false
   }
  },
  {
   "cell_type": "code",
   "execution_count": 533,
   "outputs": [
    {
     "data": {
      "text/plain": "who\nchild    0.093154\nman      0.602694\nwoman    0.304153\nName: age, dtype: float64"
     },
     "execution_count": 533,
     "metadata": {},
     "output_type": "execute_result"
    }
   ],
   "source": [
    "twsd = titanic_f.groupby(['who'])['age'].count()\n",
    "for i in twsd.index:\n",
    "    twsd.loc[i] /= len(titanic_f)\n",
    "twsd"
   ],
   "metadata": {
    "collapsed": false,
    "pycharm": {
     "name": "#%%\n"
    }
   }
  },
  {
   "cell_type": "code",
   "execution_count": 534,
   "outputs": [
    {
     "data": {
      "text/plain": "<AxesSubplot:xlabel='who'>"
     },
     "execution_count": 534,
     "metadata": {},
     "output_type": "execute_result"
    },
    {
     "data": {
      "text/plain": "<Figure size 720x504 with 1 Axes>",
      "image/png": "[encoded data removed]"
     },
     "metadata": {
      "needs_background": "light"
     },
     "output_type": "display_data"
    }
   ],
   "source": [
    "twsd.T.plot.bar(figsize=(10, 7), color=['cyan', 'navy', 'crimson'])"
   ],
   "metadata": {
    "collapsed": false,
    "pycharm": {
     "name": "#%%\n"
    }
   }
  },
  {
   "cell_type": "code",
   "execution_count": 535,
   "outputs": [
    {
     "data": {
      "text/plain": "who\nchild    0.143275\nman      0.257310\nwoman    0.599415\nName: age, dtype: float64"
     },
     "execution_count": 535,
     "metadata": {},
     "output_type": "execute_result"
    }
   ],
   "source": [
    "wsd = srvd.groupby(['who'])['age'].count()\n",
    "for i in wsd.index:\n",
    "    wsd.loc[i] /= len(srvd)\n",
    "wsd"
   ],
   "metadata": {
    "collapsed": false,
    "pycharm": {
     "name": "#%%\n"
    }
   }
  },
  {
   "cell_type": "code",
   "execution_count": 536,
   "outputs": [
    {
     "data": {
      "text/plain": "<AxesSubplot:xlabel='who'>"
     },
     "execution_count": 536,
     "metadata": {},
     "output_type": "execute_result"
    },
    {
     "data": {
      "text/plain": "<Figure size 720x504 with 1 Axes>",
      "image/png": "[encoded data removed]"
     },
     "metadata": {
      "needs_background": "light"
     },
     "output_type": "display_data"
    }
   ],
   "source": [
    "wsd.T.plot.bar(figsize=(10, 7), color=['cyan', 'navy', 'crimson'])"
   ],
   "metadata": {
    "collapsed": false,
    "pycharm": {
     "name": "#%%\n"
    }
   }
  },
  {
   "cell_type": "markdown",
   "source": [
    "Выведем на одном графике сколько людей было и сколько из них выжило"
   ],
   "metadata": {
    "collapsed": false
   }
  },
  {
   "cell_type": "code",
   "execution_count": 537,
   "outputs": [
    {
     "data": {
      "text/plain": "       survived  lost\nwho                  \nchild        49    34\nman          88   449\nwoman       205    66",
      "text/html": "<div>\n<style scoped>\n    .dataframe tbody tr th:only-of-type {\n        vertical-align: middle;\n    }\n\n    .dataframe tbody tr th {\n        vertical-align: top;\n    }\n\n    .dataframe thead th {\n        text-align: right;\n    }\n</style>\n<table border=\"1\" class=\"dataframe\">\n  <thead>\n    <tr style=\"text-align: right;\">\n      <th></th>\n      <th>survived</th>\n      <th>lost</th>\n    </tr>\n    <tr>\n      <th>who</th>\n      <th></th>\n      <th></th>\n    </tr>\n  </thead>\n  <tbody>\n    <tr>\n      <th>child</th>\n      <td>49</td>\n      <td>34</td>\n    </tr>\n    <tr>\n      <th>man</th>\n      <td>88</td>\n      <td>449</td>\n    </tr>\n    <tr>\n      <th>woman</th>\n      <td>205</td>\n      <td>66</td>\n    </tr>\n  </tbody>\n</table>\n</div>"
     },
     "execution_count": 537,
     "metadata": {},
     "output_type": "execute_result"
    }
   ],
   "source": [
    "d = srvd.groupby(['who'])['age'].count()\n",
    "t = titanic_f.groupby(['who'])['age'].count()\n",
    "l_df = pd.DataFrame({'survived': d, 'lost': [t.loc[x] - d.loc[x] for x in t.index]})\n",
    "l_df"
   ],
   "metadata": {
    "collapsed": false,
    "pycharm": {
     "name": "#%%\n"
    }
   }
  },
  {
   "cell_type": "code",
   "execution_count": 538,
   "outputs": [
    {
     "data": {
      "text/plain": "<AxesSubplot:xlabel='who'>"
     },
     "execution_count": 538,
     "metadata": {},
     "output_type": "execute_result"
    },
    {
     "data": {
      "text/plain": "<Figure size 720x504 with 1 Axes>",
      "image/png": "[encoded data removed]"
     },
     "metadata": {
      "needs_background": "light"
     },
     "output_type": "display_data"
    }
   ],
   "source": [
    "l_df.plot.bar(stacked=True, figsize=(10, 7), color=['mediumspringgreen', 'slateblue'])"
   ],
   "metadata": {
    "collapsed": false,
    "pycharm": {
     "name": "#%%\n"
    }
   }
  },
  {
   "cell_type": "code",
   "source": [
    "print(\"Так изменился процент взрослых мужчин: было {0:2.0f}, стало {1:2.0f}\".format(twsd['man'] * 100, wsd['man'] * 100))"
   ],
   "metadata": {
    "collapsed": false,
    "pycharm": {
     "name": "#%%\n"
    }
   },
   "execution_count": 539,
   "outputs": [
    {
     "name": "stdout",
     "output_type": "stream",
     "text": [
      "Так изменился процент взрослых мужчин: было 60, стало 26\n"
     ]
    }
   ]
  },
  {
   "cell_type": "code",
   "execution_count": 540,
   "outputs": [
    {
     "name": "stdout",
     "output_type": "stream",
     "text": [
      "Из 537 мужчин выжило 88, из 271 женщин выжило 205, из 83 детей выжило 49\n"
     ]
    }
   ],
   "source": [
    "print(\"Из {0} мужчин выжило {1}, из {2} женщин выжило {3}, из {4} детей выжило {5}\".format(l_df.loc['man'].sum(), l_df.loc['man']['survived'], l_df.loc['woman'].sum(), l_df.loc['woman']['survived'], l_df.loc['child'].sum(), l_df.loc['child']['survived']))"
   ],
   "metadata": {
    "collapsed": false,
    "pycharm": {
     "name": "#%%\n"
    }
   }
  },
  {
   "cell_type": "markdown",
   "source": [],
   "metadata": {
    "collapsed": false
   }
  },
  {
   "cell_type": "code",
   "execution_count": 541,
   "outputs": [
    {
     "data": {
      "text/plain": "survived    0    1\nclass             \nFirst     216  136\nSecond    184   87\nThird     491  119",
      "text/html": "<div>\n<style scoped>\n    .dataframe tbody tr th:only-of-type {\n        vertical-align: middle;\n    }\n\n    .dataframe tbody tr th {\n        vertical-align: top;\n    }\n\n    .dataframe thead th {\n        text-align: right;\n    }\n</style>\n<table border=\"1\" class=\"dataframe\">\n  <thead>\n    <tr style=\"text-align: right;\">\n      <th>survived</th>\n      <th>0</th>\n      <th>1</th>\n    </tr>\n    <tr>\n      <th>class</th>\n      <th></th>\n      <th></th>\n    </tr>\n  </thead>\n  <tbody>\n    <tr>\n      <th>First</th>\n      <td>216</td>\n      <td>136</td>\n    </tr>\n    <tr>\n      <th>Second</th>\n      <td>184</td>\n      <td>87</td>\n    </tr>\n    <tr>\n      <th>Third</th>\n      <td>491</td>\n      <td>119</td>\n    </tr>\n  </tbody>\n</table>\n</div>"
     },
     "execution_count": 541,
     "metadata": {},
     "output_type": "execute_result"
    }
   ],
   "source": [
    "cls_f = titanic_f.pivot_table(index=['class'], columns=['survived'], values='pclass', aggfunc='count')\n",
    "for x in cls_f.index:\n",
    "    cls_f.loc[x][0] = sum(cls_f.loc[x])\n",
    "cls_f"
   ],
   "metadata": {
    "collapsed": false,
    "pycharm": {
     "name": "#%%\n"
    }
   }
  },
  {
   "cell_type": "code",
   "execution_count": 542,
   "outputs": [
    {
     "name": "stdout",
     "output_type": "stream",
     "text": [
      "Класс билета: First, процент выживаемости: 63\n",
      "Класс билета: Second, процент выживаемости: 47\n",
      "Класс билета: Third, процент выживаемости: 24\n"
     ]
    }
   ],
   "source": [
    "for x in cls_f.index:\n",
    "    print('Класс билета: {0}, процент выживаемости: {1:2.0f}'.format(x, 100 * cls_f.loc[x][1] / cls_f.loc[x][0]))"
   ],
   "metadata": {
    "collapsed": false,
    "pycharm": {
     "name": "#%%\n"
    }
   }
  },
  {
   "cell_type": "code",
   "execution_count": 543,
   "outputs": [
    {
     "data": {
      "text/plain": "<AxesSubplot:xlabel='class'>"
     },
     "execution_count": 543,
     "metadata": {},
     "output_type": "execute_result"
    },
    {
     "data": {
      "text/plain": "<Figure size 720x504 with 1 Axes>",
      "image/png": "[encoded data removed]"
     },
     "metadata": {
      "needs_background": "light"
     },
     "output_type": "display_data"
    }
   ],
   "source": [
    "cls_f.plot.bar(figsize=(10, 7), color=['mediumspringgreen', 'slateblue'])"
   ],
   "metadata": {
    "collapsed": false,
    "pycharm": {
     "name": "#%%\n"
    }
   }
  },
  {
   "cell_type": "markdown",
   "source": [
    "Из этих фреймов и диаграммы можно сделать вывод, что чем меньше класс, тем больше выживаемость(это логично, так как для 1го и 2го класса каюты были выше чем для 3го), в 1й таблице по сравнению со 2й людей с билетами 3го класса сильно больше, а во 2й их количества примерно равны"
   ],
   "metadata": {
    "collapsed": false
   }
  },
  {
   "cell_type": "code",
   "execution_count": 544,
   "outputs": [
    {
     "data": {
      "text/plain": "survived    0   1\ndeck             \nA          19   9\nB          61  41\nC          68  39\nD          91  47\nE         266  94\nF         227  76\nG         159  36",
      "text/html": "<div>\n<style scoped>\n    .dataframe tbody tr th:only-of-type {\n        vertical-align: middle;\n    }\n\n    .dataframe tbody tr th {\n        vertical-align: top;\n    }\n\n    .dataframe thead th {\n        text-align: right;\n    }\n</style>\n<table border=\"1\" class=\"dataframe\">\n  <thead>\n    <tr style=\"text-align: right;\">\n      <th>survived</th>\n      <th>0</th>\n      <th>1</th>\n    </tr>\n    <tr>\n      <th>deck</th>\n      <th></th>\n      <th></th>\n    </tr>\n  </thead>\n  <tbody>\n    <tr>\n      <th>A</th>\n      <td>19</td>\n      <td>9</td>\n    </tr>\n    <tr>\n      <th>B</th>\n      <td>61</td>\n      <td>41</td>\n    </tr>\n    <tr>\n      <th>C</th>\n      <td>68</td>\n      <td>39</td>\n    </tr>\n    <tr>\n      <th>D</th>\n      <td>91</td>\n      <td>47</td>\n    </tr>\n    <tr>\n      <th>E</th>\n      <td>266</td>\n      <td>94</td>\n    </tr>\n    <tr>\n      <th>F</th>\n      <td>227</td>\n      <td>76</td>\n    </tr>\n    <tr>\n      <th>G</th>\n      <td>159</td>\n      <td>36</td>\n    </tr>\n  </tbody>\n</table>\n</div>"
     },
     "execution_count": 544,
     "metadata": {},
     "output_type": "execute_result"
    }
   ],
   "source": [
    "dck_f = titanic_f.pivot_table(index=['deck'], columns=['survived'], values='pclass', aggfunc='count')\n",
    "for x in dck_f.index:\n",
    "    dck_f.loc[x][0] = sum(dck_f.loc[x])\n",
    "dck_f"
   ],
   "metadata": {
    "collapsed": false,
    "pycharm": {
     "name": "#%%\n"
    }
   }
  },
  {
   "cell_type": "code",
   "execution_count": 545,
   "outputs": [
    {
     "name": "stdout",
     "output_type": "stream",
     "text": [
      "Палуба A, процент выживаемости: 47\n",
      "Палуба B, процент выживаемости: 67\n",
      "Палуба C, процент выживаемости: 57\n",
      "Палуба D, процент выживаемости: 52\n",
      "Палуба E, процент выживаемости: 35\n",
      "Палуба F, процент выживаемости: 33\n",
      "Палуба G, процент выживаемости: 23\n"
     ]
    }
   ],
   "source": [
    "for x in dck_f.index:\n",
    "    print('Палуба {0}, процент выживаемости: {1:2.0f}'.format(x, 100 * dck_f.loc[x][1] / dck_f.loc[x][0]))"
   ],
   "metadata": {
    "collapsed": false,
    "pycharm": {
     "name": "#%%\n"
    }
   }
  },
  {
   "cell_type": "code",
   "execution_count": 546,
   "outputs": [
    {
     "data": {
      "text/plain": "<AxesSubplot:xlabel='deck'>"
     },
     "execution_count": 546,
     "metadata": {},
     "output_type": "execute_result"
    },
    {
     "data": {
      "text/plain": "<Figure size 720x504 with 1 Axes>",
      "image/png": "[encoded data removed]"
     },
     "metadata": {
      "needs_background": "light"
     },
     "output_type": "display_data"
    }
   ],
   "source": [
    "dck_f.plot.bar(figsize=(10, 7), color=['cyan', 'crimson'])"
   ],
   "metadata": {
    "collapsed": false,
    "pycharm": {
     "name": "#%%\n"
    }
   }
  },
  {
   "cell_type": "markdown",
   "source": [
    "По диаграмме и таблицам понятно, что самая высокая выживаемость была у классов B, C и D, а самая низкая у классов F и G, так как последние находились ниже остальных и были отгорожены от них"
   ],
   "metadata": {
    "collapsed": false,
    "pycharm": {
     "name": "#%% md\n"
    }
   }
  },
  {
   "cell_type": "markdown",
   "source": [
    "Выведем на экран то, как изменилось процентное отношение людей на палубах, так как визуально не очень хорошо видно разницу"
   ],
   "metadata": {
    "collapsed": false
   }
  },
  {
   "cell_type": "code",
   "execution_count": 547,
   "outputs": [
    {
     "name": "stdout",
     "output_type": "stream",
     "text": [
      "Палуба A, было  2%, стало  3%\n",
      "Палуба B, было  7%, стало 12%\n",
      "Палуба C, было  8%, стало 11%\n",
      "Палуба D, было 10%, стало 14%\n",
      "Палуба E, было 30%, стало 27%\n",
      "Палуба F, было 25%, стало 22%\n",
      "Палуба G, было 18%, стало 11%\n"
     ]
    }
   ],
   "source": [
    "for x in dck_f.index:\n",
    "    print('Палуба {0}, было {1:2.0f}%, стало {2:2.0f}%'.format(x, 100 * dck_f.loc[x][0] / len(titanic_f), 100 * dck_f.loc[x][1] / len(srvd)))"
   ],
   "metadata": {
    "collapsed": false,
    "pycharm": {
     "name": "#%%\n"
    }
   }
  }
 ],
 "metadata": {
  "kernelspec": {
   "display_name": "Python 3",
   "language": "python",
   "name": "python3"
  },
  "language_info": {
   "codemirror_mode": {
    "name": "ipython",
    "version": 2
   },
   "file_extension": ".py",
   "mimetype": "text/x-python",
   "name": "python",
   "nbconvert_exporter": "python",
   "pygments_lexer": "ipython2",
   "version": "2.7.6"
  }
 },
 "nbformat": 4,
 "nbformat_minor": 0
}