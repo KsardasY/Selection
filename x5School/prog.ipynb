{
 "cells": [
  {
   "cell_type": "markdown",
   "source": [
    "1) Сколько существует четырехзначных чисел, сумма цифр которых равна 7? (1 балл)"
   ],
   "metadata": {
    "collapsed": false,
    "pycharm": {
     "name": "#%% md\n"
    }
   }
  },
  {
   "cell_type": "code",
   "execution_count": 61,
   "outputs": [
    {
     "data": {
      "text/plain": "120"
     },
     "execution_count": 61,
     "metadata": {},
     "output_type": "execute_result"
    }
   ],
   "source": [
    "k = 0\n",
    "for x in range(10 ** 3, 10 ** 4):\n",
    "    k += sum(list(map(lambda x: int(x), list(str(x))))) == 8\n",
    "k"
   ],
   "metadata": {
    "collapsed": false,
    "pycharm": {
     "name": "#%%\n"
    }
   }
  },
  {
   "cell_type": "markdown",
   "source": [
    "2) Бросается 2 игральных кубика. Величина X определяется как модуль разности выпавших значений. Посчитайте математическое ожидание E(X). (1 балл)"
   ],
   "metadata": {
    "collapsed": false
   }
  },
  {
   "cell_type": "code",
   "execution_count": 58,
   "outputs": [
    {
     "name": "stdout",
     "output_type": "stream",
     "text": [
      "35/18\n"
     ]
    }
   ],
   "source": [
    "from itertools import product\n",
    "\n",
    "\n",
    "def mwait(vs, f, r=0):\n",
    "    c, box = combs(vs, r)\n",
    "    delta = dict()\n",
    "    for x in box:\n",
    "        d = f(x)\n",
    "        if d in delta:\n",
    "            delta[d] += 1\n",
    "        else:\n",
    "            delta[d] = 1\n",
    "    m = 0\n",
    "    for x in delta:\n",
    "        m += x * delta[x]\n",
    "    g = gcd(m, c)\n",
    "    print('{}/{}'.format(m // g, c // g))\n",
    "\n",
    "\n",
    "def combs(vs, r):\n",
    "    if r:\n",
    "        return len(vs) ** r, product(vs, repeat=r)\n",
    "    else:\n",
    "        return diffv(vs)\n",
    "\n",
    "\n",
    "def gcd(a, b):\n",
    "    while a > 0 and b > 0:\n",
    "        if a > b:\n",
    "            a %= b\n",
    "        else:\n",
    "            b %= a\n",
    "    return a + b\n",
    "\n",
    "\n",
    "mwait(range(1, 7), lambda x: abs(x[0] - x[1]), 2)\n"
   ],
   "metadata": {
    "collapsed": false,
    "pycharm": {
     "name": "#%%\n"
    }
   }
  },
  {
   "cell_type": "markdown",
   "source": [
    "3) Бросается 3 игральных кубика. Величина X определяется как максимальное из выпавших значений, если оно единственно (иначе 0). Посчитайте математическое ожидание E(X). (1 балл)"
   ],
   "metadata": {
    "collapsed": false
   }
  },
  {
   "cell_type": "code",
   "execution_count": 56,
   "outputs": [
    {
     "name": "stdout",
     "output_type": "stream",
     "text": [
      "35/9\n"
     ]
    }
   ],
   "source": [
    "mwait(range(1, 7), lambda x: max(x) if x.count(max(x)) == 1 else 0, 3)"
   ],
   "metadata": {
    "collapsed": false,
    "pycharm": {
     "name": "#%%\n"
    }
   }
  },
  {
   "cell_type": "markdown",
   "source": [
    "4) У вас есть 3 мешка с шариками красного, синего и зеленого цветов. В первом мешке 1 красный шарик, 4 синих и 3 зеленых. Во втором мешке 2 красных шарика, 1 зеленый и 1 синий. В третьем мешке 2 красных шарика, 10 зеленых и 4 синих. Вы вслепую берете по одному шарику из каждого мешка. С какой вероятностью все 3 шарика, которые вы вытащили, окажутся синими? (1 балл)"
   ],
   "metadata": {
    "collapsed": false
   }
  },
  {
   "cell_type": "markdown",
   "source": [
    "Ответ: 1/32"
   ],
   "metadata": {
    "collapsed": false
   }
  },
  {
   "cell_type": "markdown",
   "source": [
    "5) Условия, как в задаче выше. Посчитайте математическое ожидание, E(X), количества синих шариков. (1 балл)"
   ],
   "metadata": {
    "collapsed": false
   }
  },
  {
   "cell_type": "code",
   "execution_count": 62,
   "outputs": [
    {
     "name": "stdout",
     "output_type": "stream",
     "text": [
      "5/4\n"
     ]
    }
   ],
   "source": [
    "def diffv(vs):\n",
    "    return len(vs[0]) * len(vs[2]) * len(vs[1]), [(x, y, z) for x in vs[0] for y in vs[1] for z in vs[2]]\n",
    "\n",
    "\n",
    "mwait([[1] * 3 + [0] * 5, [1, 0, 0, 0], [1] * 10 + [0] * 6], sum)"
   ],
   "metadata": {
    "collapsed": false,
    "pycharm": {
     "name": "#%%\n"
    }
   }
  },
  {
   "cell_type": "code",
   "execution_count": 25,
   "outputs": [
    {
     "name": "stdout",
     "output_type": "stream",
     "text": [
      "121\n",
      "None\n"
     ]
    }
   ],
   "source": [
    "def printer(v):\n",
    "    print(v)\n",
    "\n",
    "\n",
    "print(printer(121))"
   ],
   "metadata": {
    "collapsed": false,
    "pycharm": {
     "name": "#%%\n"
    }
   }
  },
  {
   "cell_type": "code",
   "execution_count": 36,
   "outputs": [
    {
     "data": {
      "text/plain": "[0, 1, 0, 1, 0, 1, 0, 1]"
     },
     "execution_count": 36,
     "metadata": {},
     "output_type": "execute_result"
    }
   ],
   "source": [
    "[0, 1] * 4"
   ],
   "metadata": {
    "collapsed": false,
    "pycharm": {
     "name": "#%%\n"
    }
   }
  },
  {
   "cell_type": "code",
   "execution_count": 27,
   "outputs": [
    {
     "name": "stdout",
     "output_type": "stream",
     "text": [
      "<generator object <genexpr> at 0x00000286238FE350>\n"
     ]
    }
   ],
   "source": [
    "x = (i for i in range(5))\n",
    "print(x)"
   ],
   "metadata": {
    "collapsed": false,
    "pycharm": {
     "name": "#%%\n"
    }
   }
  },
  {
   "cell_type": "code",
   "execution_count": 69,
   "outputs": [
    {
     "name": "stdout",
     "output_type": "stream",
     "text": [
      "False\n"
     ]
    }
   ],
   "source": [
    "print(False == (False in [False]))"
   ],
   "metadata": {
    "collapsed": false,
    "pycharm": {
     "name": "#%%\n"
    }
   }
  },
  {
   "cell_type": "code",
   "execution_count": 76,
   "outputs": [
    {
     "data": {
      "text/plain": "{'__delitem__', '__reversed__', '__setitem__', 'clear', 'copy', 'pop'}"
     },
     "execution_count": 76,
     "metadata": {},
     "output_type": "execute_result"
    }
   ],
   "source": [
    "what = lambda x: set(dir(x))\n",
    "(what([]) & what({}) - what(()))"
   ],
   "metadata": {
    "collapsed": false,
    "pycharm": {
     "name": "#%%\n"
    }
   }
  },
  {
   "cell_type": "code",
   "execution_count": 75,
   "outputs": [
    {
     "data": {
      "text/plain": "{'__iter__'}"
     },
     "execution_count": 75,
     "metadata": {},
     "output_type": "execute_result"
    }
   ],
   "source": [
    "def gen():\n",
    "    yield\n",
    "\n",
    "\n",
    "(what(gen()) & what([]) - what(gen))"
   ],
   "metadata": {
    "collapsed": false,
    "pycharm": {
     "name": "#%%\n"
    }
   }
  },
  {
   "cell_type": "code",
   "execution_count": null,
   "outputs": [],
   "source": [],
   "metadata": {
    "collapsed": false,
    "pycharm": {
     "name": "#%%\n"
    }
   }
  }
 ],
 "metadata": {
  "kernelspec": {
   "display_name": "Python 3",
   "language": "python",
   "name": "python3"
  },
  "language_info": {
   "codemirror_mode": {
    "name": "ipython",
    "version": 2
   },
   "file_extension": ".py",
   "mimetype": "text/x-python",
   "name": "python",
   "nbconvert_exporter": "python",
   "pygments_lexer": "ipython2",
   "version": "2.7.6"
  }
 },
 "nbformat": 4,
 "nbformat_minor": 0
}